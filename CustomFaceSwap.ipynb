{
 "cells": [
  {
   "cell_type": "markdown",
   "id": "81916541",
   "metadata": {},
   "source": [
    "### Custom FaceSwap from scratch with dlib and opencv"
   ]
  },
  {
   "cell_type": "code",
   "execution_count": 1,
   "id": "5744c62a",
   "metadata": {},
   "outputs": [],
   "source": [
    "# Import the required libraries\n",
    "import cv2\n",
    "import numpy as np\n",
    "import dlib"
   ]
  },
  {
   "cell_type": "code",
   "execution_count": 2,
   "id": "16b1eb71",
   "metadata": {},
   "outputs": [],
   "source": [
    "#initialize dlib library's face detector\n",
    "#create dlib library's facial landmark predictor\n",
    "frontal_face_detector = dlib.get_frontal_face_detector()\n",
    "frontal_face_predictor = dlib.shape_predictor(\"dataset/shape_predictor_68_face_landmarks.dat\")\n",
    "\n",
    "#read the source face image and convert it to grayscale\n",
    "source_image = cv2.imread(\"images/ayobami.jpg\")\n",
    "source_image_grayscale = cv2.cvtColor(source_image, cv2.COLOR_BGR2GRAY)\n",
    "#cv2.imshow(\"source_image\",source_image)\n",
    "\n",
    "#read the destination face image and convert it to grayscale\n",
    "destination_image = cv2.imread(\"images/ayodeji.jpg\")\n",
    "destination_image_grayscale = cv2.cvtColor(destination_image, cv2.COLOR_BGR2GRAY)\n",
    "#cv2.imshow(\"destination_image\",destination_image)\n",
    "\n",
    "#create a zeros array canvas exactly like the same size of source_image_grayscale\n",
    "source_image_canvas = np.zeros_like(source_image_grayscale)\n",
    "\n",
    "#getting the shape of destination_image\n",
    "height, width, no_of_channels = destination_image.shape\n",
    "\n",
    "#create a zeros array canvas like the destination image\n",
    "destination_image_canvas = np.zeros((height,width,no_of_channels),np.uint8)\n",
    "\n",
    "#define a method to get the index\n",
    "def index_from_array(numpyarray):\n",
    "    index = None\n",
    "    for n in numpyarray[0]:\n",
    "        index = n\n",
    "        break\n",
    "    return index\n",
    "\n",
    "\n",
    "#FOR THE SOURCE IMAGE\n",
    "####################\n",
    "#Find the faces in source image\n",
    "#Returns a numpy array containing a histogram of pixels in the image\n",
    "source_faces = frontal_face_detector(source_image_grayscale)\n",
    "\n",
    "#Loop through all faces found in the source image\n",
    "for source_face in source_faces:\n",
    "    source_face_landmarks = frontal_face_predictor(source_image_grayscale, source_face)\n",
    "    source_face_landmark_points = []\n",
    "    \n",
    "    # Loop through all 68 landmark points\n",
    "    for landmark_no in range(0, 68):\n",
    "        x_point = source_face_landmarks.part(landmark_no).x\n",
    "        y_point = source_face_landmarks.part(landmark_no).y\n",
    "        source_face_landmark_points.append((x_point, y_point))\n",
    "        \n",
    "#         cv2.circle(source_image, (x_point, y_point), 2, (255, 0, 0), -1)\n",
    "# cv2.imshow('Landmarks', source_image)\n",
    "# cv2.waitKey(0)\n",
    "# cv2.destroyAllWindows()"
   ]
  },
  {
   "cell_type": "code",
   "execution_count": 3,
   "id": "1abe6cb5",
   "metadata": {},
   "outputs": [
    {
     "name": "stdout",
     "output_type": "stream",
     "text": [
      "[(320, 324), (322, 370), (324, 414), (329, 460), (343, 507), (366, 547), (398, 585), (442, 614), (496, 624), (550, 621), (594, 597), (627, 566), (651, 528), (663, 483), (669, 435), (675, 390), (681, 343), (349, 284), (374, 260), (410, 253), (446, 262), (479, 280), (535, 280), (569, 264), (605, 258), (640, 269), (662, 296), (507, 317), (507, 344), (506, 371), (506, 400), (463, 420), (482, 427), (505, 434), (527, 429), (547, 423), (387, 321), (408, 311), (433, 313), (453, 329), (430, 332), (406, 331), (559, 333), (582, 318), (607, 317), (625, 330), (607, 338), (583, 337), (422, 478), (452, 467), (483, 463), (504, 469), (525, 465), (556, 472), (585, 488), (557, 511), (526, 518), (503, 519), (480, 516), (449, 503), (434, 481), (483, 485), (504, 488), (525, 487), (574, 491), (524, 490), (503, 491), (482, 487)]\n"
     ]
    }
   ],
   "source": [
    "print(source_face_landmark_points)"
   ]
  },
  {
   "cell_type": "code",
   "execution_count": 4,
   "id": "c7704340",
   "metadata": {},
   "outputs": [
    {
     "name": "stdout",
     "output_type": "stream",
     "text": [
      "rectangles[[(286, 187) (732, 633)]]\n"
     ]
    }
   ],
   "source": [
    "print(source_faces)"
   ]
  },
  {
   "cell_type": "code",
   "execution_count": null,
   "id": "b8deb6a5",
   "metadata": {},
   "outputs": [],
   "source": []
  },
  {
   "cell_type": "code",
   "execution_count": null,
   "id": "923fa617",
   "metadata": {},
   "outputs": [],
   "source": []
  },
  {
   "cell_type": "code",
   "execution_count": null,
   "id": "825fe251",
   "metadata": {},
   "outputs": [],
   "source": []
  }
 ],
 "metadata": {
  "kernelspec": {
   "display_name": "Python 3",
   "language": "python",
   "name": "python3"
  },
  "language_info": {
   "codemirror_mode": {
    "name": "ipython",
    "version": 3
   },
   "file_extension": ".py",
   "mimetype": "text/x-python",
   "name": "python",
   "nbconvert_exporter": "python",
   "pygments_lexer": "ipython3",
   "version": "3.8.8"
  }
 },
 "nbformat": 4,
 "nbformat_minor": 5
}
